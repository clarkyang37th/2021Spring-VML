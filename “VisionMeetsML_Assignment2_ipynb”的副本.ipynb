{
  "nbformat": 4,
  "nbformat_minor": 0,
  "metadata": {
    "colab": {
      "name": "“VisionMeetsML_Assignment2.ipynb”的副本",
      "provenance": [],
      "collapsed_sections": []
    },
    "kernelspec": {
      "name": "python3",
      "display_name": "Python 3"
    },
    "accelerator": "GPU"
  },
  "cells": [
    {
      "cell_type": "code",
      "metadata": {
        "id": "xLix0g9RS3Xn"
      },
      "source": [
        ""
      ],
      "execution_count": null,
      "outputs": []
    },
    {
      "cell_type": "markdown",
      "metadata": {
        "id": "DwXuQJz1TEB1"
      },
      "source": [
        "CSCI-GA.3033-​076 Vision Meets Machine Learning Assignment-2\n",
        "\n",
        "In this assignment, you will train the Resnet18 classifier on the CIFAR-10 dataset and do the statistical analysis of the classification. "
      ]
    },
    {
      "cell_type": "markdown",
      "metadata": {
        "id": "6FenaSitT4Pn"
      },
      "source": [
        "Submission Info\n",
        "\n",
        "You should make a copy of this Colab (File->Save a copy in Drive). Please start the assignment early and don’t be afraid to ask for help from either the TAs or myself. You are allowed to collaborate with other students in terms discussing ideas and possible solutions. However you code up the solution yourself, i.e. you must write your own code. Copying your friends code and just changing all the names of the variables is not allowed! You are not allowed to use solutions from similar assignments in courses from other institutions, or those found elsewhere on the web. Your solutions should be submitted via the NYU classes system."
      ]
    },
    {
      "cell_type": "markdown",
      "metadata": {
        "id": "9iFhQUNgUBI8"
      },
      "source": [
        "# **Part 1- Training The Resnet classifier (40 Points)**"
      ]
    },
    {
      "cell_type": "code",
      "metadata": {
        "id": "7adcOfQVTyPz"
      },
      "source": [
        "import torch\n",
        "import torchvision\n",
        "import torchvision.transforms as transforms\n",
        "from torchvision import datasets, models, transforms\n",
        "import torch.nn as nn\n",
        "import torch.optim as optim\n",
        "import matplotlib.pyplot as plt\n",
        "import numpy as np\n",
        "import torch.optim as optim\n",
        "# Code here\n",
        "from sklearn.metrics import confusion_matrix\n",
        "from sklearn.model_selection import train_test_split\n",
        "from sklearn.svm import SVC\n",
        "# End here"
      ],
      "execution_count": 43,
      "outputs": []
    },
    {
      "cell_type": "code",
      "metadata": {
        "id": "UA0VbXgTUSQz",
        "colab": {
          "base_uri": "https://localhost:8080/"
        },
        "outputId": "a884a981-627f-4998-92bc-6a5f3b29d2a8"
      },
      "source": [
        "# The CIFAR-10 dataset is available in the pytorch module.\n",
        "#  http://www.cs.toronto.edu/~kriz/cifar.html\n",
        "# Only normalization tranformation is applied. You can choose to apply data augmentation techniques as well.\n",
        "\n",
        "transform = transforms.Compose(\n",
        "    [transforms.ToTensor(),\n",
        "     transforms.Normalize((0.5, 0.5, 0.5), (0.5, 0.5, 0.5))])\n",
        "\n",
        "#Loading the training data\n",
        "trainset = torchvision.datasets.CIFAR10(root='./data', train=True,\n",
        "                                        download=True, transform=transform)\n",
        "trainloader = torch.utils.data.DataLoader(trainset, batch_size=4,\n",
        "                                          shuffle=True, num_workers=2)\n",
        "\n",
        "#Loading the testing data\n",
        "testset = torchvision.datasets.CIFAR10(root='./data', train=False,\n",
        "                                       download=True, transform=transform)\n",
        "testloader = torch.utils.data.DataLoader(testset, batch_size=4,\n",
        "                                         shuffle=False, num_workers=2)\n",
        "\n",
        "classes = ('plane', 'car', 'bird', 'cat',\n",
        "           'deer', 'dog', 'frog', 'horse', 'ship', 'truck')\n",
        "\n",
        "\n"
      ],
      "execution_count": 49,
      "outputs": [
        {
          "output_type": "stream",
          "text": [
            "Files already downloaded and verified\n",
            "Files already downloaded and verified\n"
          ],
          "name": "stdout"
        }
      ]
    },
    {
      "cell_type": "code",
      "metadata": {
        "id": "f153wdIyVGvt"
      },
      "source": [
        "# functions to show an image\n",
        "def imshow(img):\n",
        "    img = img / 2 + 0.5     # unnormalize\n",
        "    npimg = img.numpy()\n",
        "    plt.imshow(np.transpose(npimg, (1, 2, 0)))\n",
        "    plt.show()\n"
      ],
      "execution_count": 6,
      "outputs": []
    },
    {
      "cell_type": "markdown",
      "metadata": {
        "id": "S91a0B49VMUb"
      },
      "source": [
        "**Question - 1. Show any 4 random images from the dataset.(10 Points)**"
      ]
    },
    {
      "cell_type": "code",
      "metadata": {
        "id": "59R5MwDfWoKU"
      },
      "source": [
        ""
      ],
      "execution_count": null,
      "outputs": []
    },
    {
      "cell_type": "code",
      "metadata": {
        "colab": {
          "base_uri": "https://localhost:8080/"
        },
        "id": "Bp_OPLIkVXew",
        "outputId": "e78d84fb-ad02-4317-e114-4ed28c61be44"
      },
      "source": [
        "# Using the GPU available on the google colab\n",
        "if torch.cuda.device_count() > 0:\n",
        "    current_device = 'cuda'\n",
        "else:\n",
        "    current_device = 'cpu'\n",
        "print('Current Device: ' + current_device)"
      ],
      "execution_count": 19,
      "outputs": [
        {
          "output_type": "stream",
          "text": [
            "Current Device: cuda\n"
          ],
          "name": "stdout"
        }
      ]
    },
    {
      "cell_type": "code",
      "metadata": {
        "id": "yeYPJ-VFVaPN",
        "colab": {
          "base_uri": "https://localhost:8080/",
          "height": 138
        },
        "outputId": "7c6b1ff5-c871-4c94-cf2b-2fc1ac06cef9"
      },
      "source": [
        "# Intiating the Resnet18 model from the torch module. Setting pretrained = False because we're training it from the scratch\n",
        "net = models.resnet18(pretrained= False)\n",
        "num_classes = 10\n",
        "\n",
        "# VML Code starts here\n",
        "dataiter = iter(testloader)\n",
        "images, labels = dataiter.next()\n",
        " \n",
        "imshow(torchvision.utils.make_grid(images))\n",
        "# End\n"
      ],
      "execution_count": 8,
      "outputs": [
        {
          "output_type": "display_data",
          "data": {
            "image/png": "[encoded data removed]",
            "text/plain": [
              "<Figure size 432x288 with 1 Axes>"
            ]
          },
          "metadata": {
            "tags": [],
            "needs_background": "light"
          }
        }
      ]
    },
    {
      "cell_type": "markdown",
      "metadata": {
        "id": "MznIxi5SWqMj"
      },
      "source": [
        "**Question-2. The Resnet18 model intialized here contains 1000 output classes change it to 10 classes in the model.(10 Points)**"
      ]
    },
    {
      "cell_type": "code",
      "metadata": {
        "id": "Op-k8X_0YFGO"
      },
      "source": [
        ""
      ],
      "execution_count": null,
      "outputs": []
    },
    {
      "cell_type": "code",
      "metadata": {
        "id": "wj5kPOY5XQ-N",
        "colab": {
          "base_uri": "https://localhost:8080/"
        },
        "outputId": "578284d6-4f5d-47c0-e5bd-9fddf624a809"
      },
      "source": [
        "#Model training\n",
        "# start code here\n",
        "num_ftrs = net.fc.in_features\n",
        "net.fc = nn.Linear(num_ftrs, 10)\n",
        "net = net.to(current_device)\n",
        "# end code\n",
        "criterion = nn.CrossEntropyLoss()\n",
        "#You can expermient with different lr and momentum\n",
        "optimizer = optim.SGD(net.parameters(), lr=0.001, momentum=0.9)\n",
        "\n",
        "num_epochs = 10\n",
        "# It almost took forever to reach epoch 20, so I changed it to 10\n",
        "# Since it does not show much difference after 10 in lr = 0.001\n",
        "for epoch in range(num_epochs):  # loop over the dataset multiple times\n",
        "\n",
        "    running_loss = 0.0\n",
        "    for i, data in enumerate(trainloader, 0):\n",
        "        # get the inputs; data is a list of [inputs, labels]\n",
        "        inputs, labels = data\n",
        "        \n",
        "        inputs = inputs.to(current_device)\n",
        "        labels = labels.to(current_device)\n",
        "\n",
        "        # zero the parameter gradients\n",
        "        optimizer.zero_grad()\n",
        "\n",
        "        # forward + backward + optimize\n",
        "        outputs = net(inputs)\n",
        "        loss = criterion(outputs, labels)\n",
        "        loss.backward()\n",
        "        optimizer.step()\n",
        "\n",
        "        # print statistics\n",
        "        running_loss += loss.item()\n",
        "        if i % 2000 == 1999:    # print every 2000 mini-batches\n",
        "            print('[%d, %5d] loss: %.3f' %\n",
        "                  (epoch + 1, i + 1, running_loss / 2000))\n",
        "            running_loss = 0.0\n",
        "\n",
        "print('Finished Training')\n"
      ],
      "execution_count": 9,
      "outputs": [
        {
          "output_type": "stream",
          "text": [
            "[1,  2000] loss: 2.359\n",
            "[1,  4000] loss: 2.092\n",
            "[1,  6000] loss: 1.967\n",
            "[1,  8000] loss: 1.852\n",
            "[1, 10000] loss: 1.789\n",
            "[1, 12000] loss: 1.717\n",
            "[2,  2000] loss: 1.608\n",
            "[2,  4000] loss: 1.561\n",
            "[2,  6000] loss: 1.513\n",
            "[2,  8000] loss: 1.508\n",
            "[2, 10000] loss: 1.475\n",
            "[2, 12000] loss: 1.388\n",
            "[3,  2000] loss: 1.356\n",
            "[3,  4000] loss: 1.328\n",
            "[3,  6000] loss: 1.285\n",
            "[3,  8000] loss: 1.238\n",
            "[3, 10000] loss: 1.219\n",
            "[3, 12000] loss: 1.216\n",
            "[4,  2000] loss: 1.098\n",
            "[4,  4000] loss: 1.131\n",
            "[4,  6000] loss: 1.120\n",
            "[4,  8000] loss: 1.098\n",
            "[4, 10000] loss: 1.105\n",
            "[4, 12000] loss: 1.073\n",
            "[5,  2000] loss: 1.004\n",
            "[5,  4000] loss: 0.986\n",
            "[5,  6000] loss: 0.983\n",
            "[5,  8000] loss: 0.974\n",
            "[5, 10000] loss: 0.972\n",
            "[5, 12000] loss: 0.949\n",
            "[6,  2000] loss: 0.889\n",
            "[6,  4000] loss: 0.898\n",
            "[6,  6000] loss: 0.898\n",
            "[6,  8000] loss: 0.896\n",
            "[6, 10000] loss: 0.872\n",
            "[6, 12000] loss: 0.889\n",
            "[7,  2000] loss: 0.799\n",
            "[7,  4000] loss: 0.824\n",
            "[7,  6000] loss: 0.785\n",
            "[7,  8000] loss: 0.773\n",
            "[7, 10000] loss: 0.792\n",
            "[7, 12000] loss: 0.841\n",
            "[8,  2000] loss: 0.730\n",
            "[8,  4000] loss: 0.738\n",
            "[8,  6000] loss: 0.768\n",
            "[8,  8000] loss: 0.718\n",
            "[8, 10000] loss: 0.746\n",
            "[8, 12000] loss: 0.743\n",
            "[9,  2000] loss: 0.670\n",
            "[9,  4000] loss: 0.650\n",
            "[9,  6000] loss: 0.667\n",
            "[9,  8000] loss: 0.686\n",
            "[9, 10000] loss: 0.663\n",
            "[9, 12000] loss: 0.690\n",
            "[10,  2000] loss: 0.593\n",
            "[10,  4000] loss: 0.610\n",
            "[10,  6000] loss: 0.626\n",
            "[10,  8000] loss: 0.609\n",
            "[10, 10000] loss: 0.623\n",
            "[10, 12000] loss: 0.633\n",
            "Finished Training\n"
          ],
          "name": "stdout"
        }
      ]
    },
    {
      "cell_type": "markdown",
      "metadata": {
        "id": "7cHKIYhiX-DC"
      },
      "source": [
        "**Question-3. (i).Plot the loss with epoch for lr = [10, 1, 0.1, 0.01, 0.001] and make comments about how high lr effects the training. (20 Points)**"
      ]
    },
    {
      "cell_type": "code",
      "metadata": {
        "id": "Crt9HEWuZsFp",
        "colab": {
          "base_uri": "https://localhost:8080/",
          "height": 295
        },
        "outputId": "04572bc2-10f4-4a60-81b4-03968fb1e1af"
      },
      "source": [
        "# Plot the loss \r\n",
        "a = [1, 2, 3, 4, 5, 6, 7, 8, 9, 10, 11, 12, 13, 14, 15, 16, 17, 18, 19, 20, 21, 22, 23, 24, 25, 26, 27, 28, 29, 30, 31, 32, 33, 34, 35, 36, 37, 38, 39, 40, 41, 42, 43, 44, 45, 46, 47, 48, 49, 50, 51, 52, 53, 54, 55, 56, 57, 58, 59, 60]\r\n",
        "lr0001 = [2.359, 2.092, 1.967, 1.852, 1.789, 1.717, 1.608, 1.561, 1.513, 1.508, 1.475, 1.388, 1.356, 1.328, 1.285, 1.238, 1.219, 1.216, 1.098, 1.131, 1.12, 1.098, 1.105, 1.073, 1.004, 0.986, 0.983, 0.974, 0.972, 0.949, 0.889, 0.898, 0.898, 0.896, 0.872, 0.889, 0.799, 0.824, 0.785, 0.773, 0.792, 0.841, 0.73, 0.738, 0.768, 0.718, 0.746, 0.743, 0.67, 0.65, 0.667, 0.686, 0.663, 0.69, 0.593, 0.61, 0.626, 0.609, 0.623, 0.633]\r\n",
        "lr001 = [1.397, 1.177, 1.101, 0.986, 1.017, 0.96, 1.118, 0.91, 0.865, 0.876, 0.837, 0.836, 0.704, 0.729, 0.703, 0.695, 0.733, 0.733, 0.606, 0.64, 0.665, 0.66, 0.625, 0.611, 0.508, 0.589, 0.592, 0.583, 0.617, 0.592, 0.525, 0.5, 0.515, 0.522, 0.518, 0.546, 0.433, 0.438, 0.431, 0.481, 0.463, 0.422, 0.361, 0.398, 0.4, 0.408, 0.406, 0.504, 0.364, 0.356, 0.362, 0.354, 0.393, 0.351, 0.283, 0.303, 0.323, 0.332, 0.332, 0.328]\r\n",
        "lr01 = [2.321, 2.354, 2.365, 2.356, 2.355, 2.362, 2.36, 2.358, 2.368, 2.355, 2.364, 2.362, 2.359, 2.361, 2.358, 2.36, 2.357, 2.359, 2.362, 2.357, 2.359, 2.363, 2.352, 2.359, 2.362, 2.363, 2.36, 2.359, 2.362, 2.362, 2.359, 2.362, 2.363, 2.363, 2.364, 2.361, 2.361, 2.357, 2.353, 2.359, 2.36, 2.359, 2.36, 2.358, 2.357, 2.359, 2.357, 2.361, 2.36, 2.358, 2.359, 2.357, 2.363, 2.356, 2.361, 2.362, 2.36, 2.359, 2.361, 2.358]\r\n",
        "plt.plot(a, lr0001, 'g-', label = 'learning rate = 0.001')\r\n",
        "plt.plot(a, lr001, 'b-', label = 'learning rate = 0.01')\r\n",
        "plt.plot(a, lr01, 'r-', label = 'learning rate = 0.1')\r\n",
        "plt.xlabel('epoch')\r\n",
        "plt.ylabel('loss')\r\n",
        "plt.title('loss with epoch for different learning rate')\r\n",
        "plt.legend() \r\n",
        "\r\n",
        "plt.plot()\r\n",
        "plt.show()"
      ],
      "execution_count": 10,
      "outputs": [
        {
          "output_type": "display_data",
          "data": {
            "image/png": "[encoded data removed]",
            "text/plain": [
              "<Figure size 432x288 with 1 Axes>"
            ]
          },
          "metadata": {
            "tags": [],
            "needs_background": "light"
          }
        }
      ]
    },
    {
      "cell_type": "markdown",
      "metadata": {
        "id": "GXKuAMqlSqAP"
      },
      "source": [
        "learning rate 1 and 10 is not available since they're way too big.\r\n",
        "\r\n",
        "Comment: Learning rate is like your step to a pit while the bottom is the global optimum. If you choose the bigger step, your initial speed will be faster but you'll be swinging around and never reach optimum.\r\n",
        "\r\n",
        "If you choose too small, it'll spend to much time in iteration.\r\n"
      ]
    },
    {
      "cell_type": "code",
      "metadata": {
        "id": "A2WkQ0GNY07N",
        "colab": {
          "base_uri": "https://localhost:8080/"
        },
        "outputId": "58db3379-3041-4246-9b2b-454226849489"
      },
      "source": [
        "#Testing the model\n",
        "correct = 0\n",
        "total = 0\n",
        "# \n",
        "lb = []\n",
        "prd = []\n",
        "# \n",
        "with torch.no_grad():\n",
        "    for data in testloader:\n",
        "        images, labels = data\n",
        "        outputs = net(images.to(current_device))\n",
        "        labels = labels.to(current_device)\n",
        "        # # Start code here\n",
        "        # print (labels)\n",
        "        for i in range(0,4):\n",
        "          lb.append(labels.cuda().data.cpu().numpy()[i])\n",
        "        # End code\n",
        "        # 1.出错的东西print出来\n",
        "        _, predicted = torch.max(outputs.data, 1)\n",
        "        # Start code\n",
        "        for k in range(0,4):\n",
        "          prd.append(predicted.cuda().data.cpu().numpy()[k])\n",
        "        # End code\n",
        "        total += labels.size(0)\n",
        "        correct += (predicted == labels).sum().item()\n",
        "        \n",
        "        # correct is prediction totoal is ground truth\n",
        "\n",
        "print('Accuracy of the network on the 10000 test images: %d %%' % (\n",
        "    100 * correct / total))"
      ],
      "execution_count": 65,
      "outputs": [
        {
          "output_type": "stream",
          "text": [
            "Accuracy of the network on the 10000 test images: 71 %\n"
          ],
          "name": "stdout"
        }
      ]
    },
    {
      "cell_type": "markdown",
      "metadata": {
        "id": "AnaugbaVZ4N2"
      },
      "source": [
        "## **Part - 2 (20 Points)**"
      ]
    },
    {
      "cell_type": "markdown",
      "metadata": {
        "id": "gR36KWdOadYb"
      },
      "source": [
        "Question-1. Calculate the confusion matrix of the classifcation. (10 Points)"
      ]
    },
    {
      "cell_type": "code",
      "metadata": {
        "colab": {
          "base_uri": "https://localhost:8080/"
        },
        "id": "RbvoVfl_hofj",
        "outputId": "24afb2b7-0c0e-4300-ae8e-100c6b45c535"
      },
      "source": [
        "# # Code starts here\r\n",
        "y_test = lb\r\n",
        "y_pred = prd\r\n",
        "# # (Why not available) \r\n",
        "confusion = confusion_matrix(y_test, y_pred)\r\n",
        "print('Confusion Matrix\\n')\r\n",
        "print(confusion)"
      ],
      "execution_count": 67,
      "outputs": [
        {
          "output_type": "stream",
          "text": [
            "Confusion Matrix\n",
            "\n",
            "[[773  23  35  12  16   3  11   9 101  17]\n",
            " [ 21 831   7   4   8   1  15   5  30  78]\n",
            " [ 79   5 639  40  79  48  55  33  16   6]\n",
            " [ 44  11  96 412  80 134 123  53  29  18]\n",
            " [ 24   4  94  29 693  20  43  77  13   3]\n",
            " [ 23   5  84 118  58 532  59  91  19  11]\n",
            " [ 15   4  47  42  36  17 812  12  11   4]\n",
            " [ 24   1  47  22  58  32  19 785   3   9]\n",
            " [ 46  25  17   7   5   3  11   3 875   8]\n",
            " [ 53  87  11   5   7   5  13  17  54 748]]\n"
          ],
          "name": "stdout"
        }
      ]
    },
    {
      "cell_type": "markdown",
      "metadata": {
        "id": "260cwtVKasg6"
      },
      "source": [
        "Question-2. Calculate the Precision, Recall and F1-score for each class. (10 Points)\n",
        "\n",
        "(Hint - You can find this article useful - https://towardsdatascience.com/confusion-matrix-for-your-multi-class-machine-learning-model-ff9aa3bf7826) "
      ]
    },
    {
      "cell_type": "code",
      "metadata": {
        "colab": {
          "base_uri": "https://localhost:8080/"
        },
        "id": "CYKKGCm05iZM",
        "outputId": "e25fa6c8-4b53-41bf-8143-5371c57d785c"
      },
      "source": [
        "from sklearn.metrics import accuracy_score, precision_score, recall_score, f1_score\r\n",
        "\r\n",
        "print('\\nAccuracy: {:.2f}\\n'.format(accuracy_score(y_test, y_pred)))\r\n",
        "\r\n",
        "print('Micro Precision: {:.2f}'.format(precision_score(y_test, y_pred, average='micro')))\r\n",
        "print('Micro Recall: {:.2f}'.format(recall_score(y_test, y_pred, average='micro')))\r\n",
        "print('Micro F1-score: {:.2f}\\n'.format(f1_score(y_test, y_pred, average='micro')))\r\n",
        "\r\n",
        "print('Macro Precision: {:.2f}'.format(precision_score(y_test, y_pred, average='macro')))\r\n",
        "print('Macro Recall: {:.2f}'.format(recall_score(y_test, y_pred, average='macro')))\r\n",
        "print('Macro F1-score: {:.2f}\\n'.format(f1_score(y_test, y_pred, average='macro')))\r\n",
        "\r\n",
        "print('Weighted Precision: {:.2f}'.format(precision_score(y_test, y_pred, average='weighted')))\r\n",
        "print('Weighted Recall: {:.2f}'.format(recall_score(y_test, y_pred, average='weighted')))\r\n",
        "print('Weighted F1-score: {:.2f}'.format(f1_score(y_test, y_pred, average='weighted')))\r\n",
        "\r\n",
        "from sklearn.metrics import classification_report\r\n",
        "print('\\nClassification Report\\n')\r\n",
        "print(classification_report(y_test, y_pred, target_names=['Class 1', 'Class 2', 'Class 3','Class 4', 'Class 5','Class 6', 'Class 7', 'Class 8', 'Class 9', 'Class 10']))"
      ],
      "execution_count": 69,
      "outputs": [
        {
          "output_type": "stream",
          "text": [
            "\n",
            "Accuracy: 0.71\n",
            "\n",
            "Micro Precision: 0.71\n",
            "Micro Recall: 0.71\n",
            "Micro F1-score: 0.71\n",
            "\n",
            "Macro Precision: 0.71\n",
            "Macro Recall: 0.71\n",
            "Macro F1-score: 0.70\n",
            "\n",
            "Weighted Precision: 0.71\n",
            "Weighted Recall: 0.71\n",
            "Weighted F1-score: 0.70\n",
            "\n",
            "Classification Report\n",
            "\n",
            "              precision    recall  f1-score   support\n",
            "\n",
            "     Class 1       0.70      0.77      0.74      1000\n",
            "     Class 2       0.83      0.83      0.83      1000\n",
            "     Class 3       0.59      0.64      0.62      1000\n",
            "     Class 4       0.60      0.41      0.49      1000\n",
            "     Class 5       0.67      0.69      0.68      1000\n",
            "     Class 6       0.67      0.53      0.59      1000\n",
            "     Class 7       0.70      0.81      0.75      1000\n",
            "     Class 8       0.72      0.79      0.75      1000\n",
            "     Class 9       0.76      0.88      0.81      1000\n",
            "    Class 10       0.83      0.75      0.79      1000\n",
            "\n",
            "    accuracy                           0.71     10000\n",
            "   macro avg       0.71      0.71      0.70     10000\n",
            "weighted avg       0.71      0.71      0.70     10000\n",
            "\n"
          ],
          "name": "stdout"
        }
      ]
    },
    {
      "cell_type": "code",
      "metadata": {
        "id": "3C25-XJH5jFS"
      },
      "source": [
        ""
      ],
      "execution_count": null,
      "outputs": []
    }
  ]
}